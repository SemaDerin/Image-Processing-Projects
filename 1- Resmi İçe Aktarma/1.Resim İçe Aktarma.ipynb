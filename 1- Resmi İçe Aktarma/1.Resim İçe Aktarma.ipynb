{
 "cells": [
  {
   "cell_type": "markdown",
   "id": "5ca377e5",
   "metadata": {},
   "source": [
    "# OpenCV "
   ]
  },
  {
   "cell_type": "markdown",
   "id": "7c61531b",
   "metadata": {},
   "source": [
    "* Resmi İçe Aktarma\n",
    "* Video İçe Aktarma\n",
    "* Kamera Açma Ve Video Kaydı\n",
    "* Yeniden Boyutlandır ve Kırp\n",
    "* Şekiller ve Metin\n",
    "* Görüntülerin Birleştirilmesi\n",
    "* Perspektif Çarpıtma\n",
    "* Görüntüleri Karıştırmak \n",
    "* Görüntü Eşikleme\n",
    "* Bulanıklaştırma\n",
    "* Morfolojik Operasyonlar\n",
    "* Gradyanlar\n",
    "* Histogram"
   ]
  },
  {
   "cell_type": "markdown",
   "id": "e1265771",
   "metadata": {},
   "source": [
    "# Resmi İçe Aktarma"
   ]
  },
  {
   "cell_type": "markdown",
   "id": "d573e42f",
   "metadata": {},
   "source": [
    "Görselin nasıl okunacağını nasıl görüntüleneceğini ve nasıl kaydedeceğidir. "
   ]
  },
  {
   "cell_type": "code",
   "execution_count": 1,
   "id": "aa187bc5",
   "metadata": {},
   "outputs": [],
   "source": [
    "import cv2"
   ]
  },
  {
   "cell_type": "markdown",
   "id": "4e0adbf3",
   "metadata": {},
   "source": [
    "Aşağıdaki her bir değer resmin her bir pikselinin sahip olduğu genlik değeridir."
   ]
  },
  {
   "cell_type": "code",
   "execution_count": 2,
   "id": "9592dd82",
   "metadata": {},
   "outputs": [
    {
     "data": {
      "text/plain": [
       "array([[[ 37,  40,  48],\n",
       "        [ 42,  45,  53],\n",
       "        [ 43,  49,  56],\n",
       "        ...,\n",
       "        [ 55,  55,  55],\n",
       "        [ 53,  53,  53],\n",
       "        [ 53,  53,  53]],\n",
       "\n",
       "       [[ 40,  43,  51],\n",
       "        [ 44,  47,  55],\n",
       "        [ 46,  52,  59],\n",
       "        ...,\n",
       "        [ 59,  59,  59],\n",
       "        [ 58,  57,  59],\n",
       "        [ 56,  58,  58]],\n",
       "\n",
       "       [[ 41,  46,  55],\n",
       "        [ 47,  52,  61],\n",
       "        [ 52,  57,  66],\n",
       "        ...,\n",
       "        [ 63,  65,  66],\n",
       "        [ 62,  63,  67],\n",
       "        [ 59,  63,  64]],\n",
       "\n",
       "       ...,\n",
       "\n",
       "       [[ 52, 137,  93],\n",
       "        [ 45, 130,  86],\n",
       "        [ 40, 125,  81],\n",
       "        ...,\n",
       "        [ 53, 127,  85],\n",
       "        [ 57, 130,  90],\n",
       "        [ 57, 130,  90]],\n",
       "\n",
       "       [[ 58, 140,  97],\n",
       "        [ 60, 142,  99],\n",
       "        [ 51, 133,  90],\n",
       "        ...,\n",
       "        [ 58, 132,  90],\n",
       "        [ 64, 137,  97],\n",
       "        [ 64, 137,  97]],\n",
       "\n",
       "       [[ 52, 134,  91],\n",
       "        [ 60, 142,  99],\n",
       "        [ 49, 131,  88],\n",
       "        ...,\n",
       "        [ 57, 131,  89],\n",
       "        [ 52, 125,  85],\n",
       "        [ 52, 125,  85]]], dtype=uint8)"
      ]
     },
     "execution_count": 2,
     "metadata": {},
     "output_type": "execute_result"
    }
   ],
   "source": [
    "cv2.imread(\"messi5.jpg\") "
   ]
  },
  {
   "cell_type": "code",
   "execution_count": 3,
   "id": "f7405637",
   "metadata": {},
   "outputs": [],
   "source": [
    "img= cv2.imread(\"messi5.jpg\", 0) #0 gray scale\n",
    "cv2.imshow(\"First Image \", img)"
   ]
  },
  {
   "cell_type": "code",
   "execution_count": 4,
   "id": "c105fd52",
   "metadata": {},
   "outputs": [
    {
     "data": {
      "text/plain": [
       "(280, 450)"
      ]
     },
     "execution_count": 4,
     "metadata": {},
     "output_type": "execute_result"
    }
   ],
   "source": [
    "img.shape"
   ]
  },
  {
   "cell_type": "code",
   "execution_count": 5,
   "id": "a08568d4",
   "metadata": {},
   "outputs": [
    {
     "data": {
      "text/plain": [
       "126000"
      ]
     },
     "execution_count": 5,
     "metadata": {},
     "output_type": "execute_result"
    }
   ],
   "source": [
    "280*450"
   ]
  },
  {
   "cell_type": "markdown",
   "id": "e881679f",
   "metadata": {},
   "source": [
    "Bu resim toplamda 126000 pikselden oluşmuştur. Her bir pikselin 0-256 arasında sahip olduğu bir genlik değeri vardır."
   ]
  },
  {
   "cell_type": "markdown",
   "id": "4b3856f3",
   "metadata": {},
   "source": [
    "Açtığımız resmin kapanması bir k değeri tanımladık. K değerinin ASCII karşılığı 27 ise yani ESCAPE tuşuna basaksak resim kapanır eğer S tuşunua basarsak da resmimizi içe aktardığımız format yani gray_scale değeri 0 olan (Siyahbeyaz) görsel png olarak dosaymıza kaydedilir."
   ]
  },
  {
   "cell_type": "code",
   "execution_count": 6,
   "id": "8bd3b39a",
   "metadata": {},
   "outputs": [],
   "source": [
    "k= cv2.waitKey(0) &0xFF\n",
    "if k== 27:\n",
    "    cv2.destroyAllWindows()\n",
    "elif k== ord(\"s\"):\n",
    "    cv2.imwrite(\"messi_gray.png\", img)\n",
    "    cv2.destroyAllWindows()"
   ]
  }
 ],
 "metadata": {
  "kernelspec": {
   "display_name": "Python 3 (ipykernel)",
   "language": "python",
   "name": "python3"
  },
  "language_info": {
   "codemirror_mode": {
    "name": "ipython",
    "version": 3
   },
   "file_extension": ".py",
   "mimetype": "text/x-python",
   "name": "python",
   "nbconvert_exporter": "python",
   "pygments_lexer": "ipython3",
   "version": "3.10.9"
  }
 },
 "nbformat": 4,
 "nbformat_minor": 5
}
