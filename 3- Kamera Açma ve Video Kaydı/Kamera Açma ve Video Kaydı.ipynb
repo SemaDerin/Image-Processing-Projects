{
 "cells": [
  {
   "cell_type": "markdown",
   "id": "53e7d5c4",
   "metadata": {},
   "source": [
    "# Kamera Açma ve Video Kaydı"
   ]
  },
  {
   "cell_type": "code",
   "execution_count": 1,
   "id": "183690c4",
   "metadata": {},
   "outputs": [],
   "source": [
    "import cv2"
   ]
  },
  {
   "cell_type": "code",
   "execution_count": 2,
   "id": "ebd54e0b",
   "metadata": {},
   "outputs": [],
   "source": [
    "cap= cv2.VideoCapture(0) #0 defult var olan kamera"
   ]
  },
  {
   "cell_type": "markdown",
   "id": "d058eab6",
   "metadata": {},
   "source": [
    "Kendi bilgisayarımızda erişebileceğimiz genişlik ve yükseklik bilgierini alıyoruz."
   ]
  },
  {
   "cell_type": "code",
   "execution_count": 3,
   "id": "62f2feac",
   "metadata": {},
   "outputs": [],
   "source": [
    "width= int(cap.get(cv2.CAP_PROP_FRAME_WIDTH))\n",
    "height= int(cap.get(cv2.CAP_PROP_FRAME_HEIGHT))"
   ]
  },
  {
   "cell_type": "markdown",
   "id": "15b82704",
   "metadata": {},
   "source": [
    "Video'yu write etmeye yani kaydetmeye başlayacağız. VideoWriter içinde video name, fourcc çerçeveleri sıkıştırmak için kullandığmız dört karekterkli bir codec kodudur. ardında frame for per second bir saniyede kaç tane frame geçmesini istediğimz ardından yükseklik ve genişlik bilgilerini de giriyoruz."
   ]
  },
  {
   "cell_type": "code",
   "execution_count": 4,
   "id": "3c501fbf",
   "metadata": {},
   "outputs": [],
   "source": [
    "writer= cv2.VideoWriter(\"video_kaydi.mp4\",cv2.VideoWriter_fourcc(*\"DIVX\"),20,(width,height))\n"
   ]
  },
  {
   "cell_type": "markdown",
   "id": "1a6ae20e",
   "metadata": {},
   "source": [
    "Video kaydedicimizi tanımladık. Her bir frame'i okuyup ardından göstermesi için bir fonksiyon tanımladık ve q değeri ile çıkış yapılabilecek hale getirdik. "
   ]
  },
  {
   "cell_type": "code",
   "execution_count": 5,
   "id": "3835f7c9",
   "metadata": {},
   "outputs": [],
   "source": [
    "while True:\n",
    "    ret, frame= cap.read()\n",
    "    cv2.imshow(\"Video\", frame)\n",
    "    \n",
    "    writer.write(frame)\n",
    "    \n",
    "    if cv2.waitKey(1) & 0xFF == ord(\"q\"): break\n",
    "\n",
    "cap.release()\n",
    "writer.release()\n",
    "cv2.destroyAllWindows()"
   ]
  },
  {
   "cell_type": "code",
   "execution_count": null,
   "id": "6994547b",
   "metadata": {},
   "outputs": [],
   "source": []
  }
 ],
 "metadata": {
  "kernelspec": {
   "display_name": "Python 3 (ipykernel)",
   "language": "python",
   "name": "python3"
  },
  "language_info": {
   "codemirror_mode": {
    "name": "ipython",
    "version": 3
   },
   "file_extension": ".py",
   "mimetype": "text/x-python",
   "name": "python",
   "nbconvert_exporter": "python",
   "pygments_lexer": "ipython3",
   "version": "3.10.9"
  }
 },
 "nbformat": 4,
 "nbformat_minor": 5
}
