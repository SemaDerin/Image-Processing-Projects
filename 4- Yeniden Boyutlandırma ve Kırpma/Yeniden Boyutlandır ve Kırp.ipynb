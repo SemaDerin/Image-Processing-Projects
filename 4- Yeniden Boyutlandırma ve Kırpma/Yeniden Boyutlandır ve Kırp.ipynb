{
 "cells": [
  {
   "cell_type": "markdown",
   "id": "6efd419a",
   "metadata": {},
   "source": [
    "# Yeniden Boyutlandırma ve Kırpma"
   ]
  },
  {
   "cell_type": "code",
   "execution_count": 1,
   "id": "ea002355",
   "metadata": {},
   "outputs": [],
   "source": [
    "import cv2"
   ]
  },
  {
   "cell_type": "code",
   "execution_count": 4,
   "id": "5cc9c87a",
   "metadata": {},
   "outputs": [],
   "source": [
    "img= cv2.imread(\"Lenna_(test_image).png\",0)"
   ]
  },
  {
   "cell_type": "code",
   "execution_count": 5,
   "id": "62b5a0b6",
   "metadata": {},
   "outputs": [
    {
     "name": "stdout",
     "output_type": "stream",
     "text": [
      "Resmin Boyutu (512, 512)\n"
     ]
    }
   ],
   "source": [
    "print(\"Resmin Boyutu\", img.shape)"
   ]
  },
  {
   "cell_type": "code",
   "execution_count": 6,
   "id": "40043efd",
   "metadata": {},
   "outputs": [
    {
     "data": {
      "text/plain": [
       "262144"
      ]
     },
     "execution_count": 6,
     "metadata": {},
     "output_type": "execute_result"
    }
   ],
   "source": [
    "512*512"
   ]
  },
  {
   "cell_type": "code",
   "execution_count": 8,
   "id": "e49785cb",
   "metadata": {},
   "outputs": [],
   "source": [
    "cv2.imshow(\"Original\", img)"
   ]
  },
  {
   "cell_type": "markdown",
   "id": "434cec9d",
   "metadata": {},
   "source": [
    "# Resized Image"
   ]
  },
  {
   "cell_type": "code",
   "execution_count": 9,
   "id": "165ba9a6",
   "metadata": {},
   "outputs": [
    {
     "name": "stdout",
     "output_type": "stream",
     "text": [
      "Resized Image (800, 800)\n"
     ]
    }
   ],
   "source": [
    "imgResized= cv2.resize(img, (800,800))\n",
    "print(\"Resized Image\",imgResized.shape)\n",
    "cv2.imshow(\"Img Resized\", imgResized)"
   ]
  },
  {
   "cell_type": "markdown",
   "id": "c68e9f3c",
   "metadata": {},
   "source": [
    "# Crop Image"
   ]
  },
  {
   "cell_type": "code",
   "execution_count": 10,
   "id": "dfc37498",
   "metadata": {},
   "outputs": [
    {
     "name": "stdout",
     "output_type": "stream",
     "text": [
      "Cropped Image  (200, 300)\n"
     ]
    }
   ],
   "source": [
    "imgCropped= img[:200,:300] #height width\n",
    "cv2.imshow(\"Cropped Image\", imgCropped)\n",
    "print(\"Cropped Image \", imgCropped.shape)"
   ]
  },
  {
   "cell_type": "code",
   "execution_count": null,
   "id": "3822deaf",
   "metadata": {},
   "outputs": [],
   "source": []
  }
 ],
 "metadata": {
  "kernelspec": {
   "display_name": "Python 3 (ipykernel)",
   "language": "python",
   "name": "python3"
  },
  "language_info": {
   "codemirror_mode": {
    "name": "ipython",
    "version": 3
   },
   "file_extension": ".py",
   "mimetype": "text/x-python",
   "name": "python",
   "nbconvert_exporter": "python",
   "pygments_lexer": "ipython3",
   "version": "3.10.9"
  }
 },
 "nbformat": 4,
 "nbformat_minor": 5
}
