{
 "cells": [
  {
   "cell_type": "markdown",
   "id": "18af05dc",
   "metadata": {},
   "source": [
    "# Video İçe Aktarma"
   ]
  },
  {
   "cell_type": "markdown",
   "id": "c9fee769",
   "metadata": {},
   "source": [
    "Video görsellerden oluşan bir hareketli bir yapıdır. Aslen görsellerin çok hızlı bir şekilde okunması ile elde edilen bir yapıdır. "
   ]
  },
  {
   "cell_type": "code",
   "execution_count": 2,
   "id": "5facb3e1",
   "metadata": {},
   "outputs": [],
   "source": [
    "import cv2 \n",
    "import time"
   ]
  },
  {
   "cell_type": "code",
   "execution_count": 3,
   "id": "b3919b81",
   "metadata": {},
   "outputs": [],
   "source": [
    "# video ismimizi alalım \n",
    "video_name= \"MOT17-04-DPM.mp4\""
   ]
  },
  {
   "cell_type": "markdown",
   "id": "d2258b65",
   "metadata": {},
   "source": [
    "Videoyu içe aktarma işlemi capture diye geçer. Ve genelde cap diye kısaltılır.\n"
   ]
  },
  {
   "cell_type": "code",
   "execution_count": 4,
   "id": "2ee4d382",
   "metadata": {},
   "outputs": [],
   "source": [
    "cap= cv2.VideoCapture(video_name)"
   ]
  },
  {
   "cell_type": "markdown",
   "id": "e8dbd525",
   "metadata": {},
   "source": [
    "Cap bir obje ve biz bunun içe aktarıldığını şimdilik göremeyiz. Eğer cap diye yazarsak videounun videoCapture objesinin içine atıldığını görebiliriz.\n"
   ]
  },
  {
   "cell_type": "code",
   "execution_count": 5,
   "id": "d5911576",
   "metadata": {},
   "outputs": [
    {
     "data": {
      "text/plain": [
       "< cv2.VideoCapture 0000019A8DFBF6B0>"
      ]
     },
     "execution_count": 5,
     "metadata": {},
     "output_type": "execute_result"
    }
   ],
   "source": [
    "cap"
   ]
  },
  {
   "cell_type": "markdown",
   "id": "bb76fcfa",
   "metadata": {},
   "source": [
    "Capture nesnesinin 3. indexi genişilk ve 4. indexi ise yüksekliği verir. Videonun piksel boyutuna bakalım."
   ]
  },
  {
   "cell_type": "code",
   "execution_count": 6,
   "id": "6ea476cd",
   "metadata": {},
   "outputs": [
    {
     "name": "stdout",
     "output_type": "stream",
     "text": [
      "Genişlik 1920.0\n",
      "Yükseklik 1080.0\n"
     ]
    }
   ],
   "source": [
    "print(\"Genişlik\", cap.get(3))\n",
    "print(\"Yükseklik\", cap.get(4))"
   ]
  },
  {
   "cell_type": "markdown",
   "id": "4afb0912",
   "metadata": {},
   "source": [
    "Cap nesnesinin içe aktarılıp aktarmadılmadığından emin olmak için bir koşul yazalım."
   ]
  },
  {
   "cell_type": "code",
   "execution_count": 9,
   "id": "bc6e80dd",
   "metadata": {},
   "outputs": [],
   "source": [
    "if cap.isOpened()== False:\n",
    "     print(\"Hata\")"
   ]
  },
  {
   "cell_type": "markdown",
   "id": "ae56151f",
   "metadata": {},
   "source": [
    "Videoyu okuma işlemi için read methodunu kullanacağız. Read methodu bize iki şey döndürür bunlardan birincisi return, ikincisi ise frame. Frame denilen şey video içinde bulunan her bir resim, her bir frame return ise bu işlemin başarılı olup olamadığı, read işlemi başarısız olursa return False olur fakat read işlemi başarılı ise return True olur ve beraberinde bize frameleri döndürür."
   ]
  },
  {
   "cell_type": "markdown",
   "id": "c9151efa",
   "metadata": {},
   "source": [
    "Bu yalnızca bir resim değil resimler bütünü olduğunu için bir while döngüsü içinde bu resimleri okuma işlemi gerçekleştirdik."
   ]
  },
  {
   "cell_type": "code",
   "execution_count": 14,
   "id": "c57ba813",
   "metadata": {},
   "outputs": [],
   "source": [
    "while True:\n",
    "    ret, frame= cap.read()\n",
    "    if ret== True:\n",
    "        \n",
    "        time.sleep(0.01) #Kullanmazsak video çok hızlı akar\n",
    "        cv2.imshow(\"Video\", frame)\n",
    "    else: break\n",
    "    if cv2.waitKey(1) & 0xFF == ord(\"q\"):\n",
    "        \n",
    "        break\n",
    "\n",
    "\n",
    "    \n",
    "    \n",
    "cap.release() #durdur\n",
    "cv2.destroyAllWindows()\n",
    "\n",
    "    "
   ]
  },
  {
   "cell_type": "code",
   "execution_count": null,
   "id": "12c9a20e",
   "metadata": {},
   "outputs": [],
   "source": []
  }
 ],
 "metadata": {
  "kernelspec": {
   "display_name": "Python 3 (ipykernel)",
   "language": "python",
   "name": "python3"
  },
  "language_info": {
   "codemirror_mode": {
    "name": "ipython",
    "version": 3
   },
   "file_extension": ".py",
   "mimetype": "text/x-python",
   "name": "python",
   "nbconvert_exporter": "python",
   "pygments_lexer": "ipython3",
   "version": "3.10.9"
  }
 },
 "nbformat": 4,
 "nbformat_minor": 5
}
